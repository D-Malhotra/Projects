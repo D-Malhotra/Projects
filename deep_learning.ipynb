{
 "cells": [
  {
   "cell_type": "markdown",
   "metadata": {},
   "source": [
    "# Coursework 1 - Mathematics for Machine Learning"
   ]
  },
  {
   "cell_type": "markdown",
   "metadata": {},
   "source": [
    "## CID: 01854788\n"
   ]
  },
  {
   "cell_type": "markdown",
   "metadata": {},
   "source": [
    "## Part 1: Quickfire questions [3 points]"
   ]
  },
  {
   "cell_type": "markdown",
   "metadata": {},
   "source": [
    "#### Question 1 (True risk / Empirical risk):\n",
    "\n",
    "For (x,y) sampled from a data generating distribution D, the true risk, R, is defined as the expectation of a chosen loss function L.\n",
    "R(L) = $ E_D[L(f(x), y)]$. Since the true data distribution is unknown we can not compute this and so we instead use a proxy for the true risk which is the empirical risk defined as $\\hat{R}(f) = \\frac{ \\sum_{i=1}^{N}L(f(x^i), y^i)}{N}$, this can be computed from the data that we have. The core difference here is that the empirical risk is an estimator for the true risk whereas the true risk defines the true quantity that we are interested in. \n",
    "\n"
   ]
  },
  {
   "cell_type": "markdown",
   "metadata": {},
   "source": [
    "#### Question 2 ('Large' or 'rich' hypothesis class):\n",
    "\n",
    "A Large/rich hypothesis class refers to a set of functions that are able to represent a wide variety of patterns in the data. An obvious benefit for this is that we are more likely to be able to better represent the true data however it comes with the caveat that it may require more data and computation to learn from or it may overfit the data to nosie which would be reflected in high test error. \n",
    " \n",
    "Mathematically having a large hypothesis set will lead to smaller emprical risk estimates however it causes more uncertainty in the true risk, this can be seen from the generalisation bound: \n",
    "\n",
    "$$R(f) \\leq \\hat{R}(f) + \\sqrt{\\frac{log(F) + log(2/\\delta)}{2N}}$$"
   ]
  },
  {
   "cell_type": "markdown",
   "metadata": {},
   "source": [
    "#### Question 3 (Dataset splitting):\n",
    "\n",
    "This is not a fair assumption as we are using the validation set to choose the optimal hyperparameters meaning that the validation accuracy is likely to be biased. This is why we use a test set to measure performance after selecting hyperparameters from the validation set. "
   ]
  },
  {
   "cell_type": "markdown",
   "metadata": {},
   "source": [
    "#### Question 4 (Occam’s razor):\n",
    "\n",
    "Occams razor is a philisophical principle that states that the simplest explanantion to an event is often the best/most-likely one - often stated as the world is not complex. It is related to naturally occuring data such as images as often naturally occuring data has noise and background details that we are not interested in, they do not exclusively contain the true/important features that we are trying to capture. For example in images of people we often see shadows or background colours which do not affect the features that we are interested in instead we want to capture facial shape, nose shape etc. This relates to Occams razor as it means that we would benefit from using fewer parameters to express the model so that we are not fitting to noise. This also leads to better generalisation to unseen data.\n"
   ]
  },
  {
   "cell_type": "markdown",
   "metadata": {},
   "source": [
    "#### Question 5 (Generalisation error):\n",
    "\n",
    "The generalisation error tells us the difference in empirical risk between training and test data. It is a measure of how well we expect the model to perform on unseen data and thus a measure of over/underfitting. Hence we want a generalisation error to be close to 0 in absolute value. A large generalisation error would suggest a model which has been fit to noise or one that does not capture the details of the data that we are interested in. "
   ]
  },
  {
   "cell_type": "markdown",
   "metadata": {},
   "source": [
    "#### Question 6 (Rademacher complexity pt1):\n",
    "\n",
    "The Rademacher complexity, given by:\n",
    "$$\\hat{R_s}(G) = E_{\\sigma} \\left[ \\sup_{g \\in G} \\frac{1}{m} \\sum_{i=1}^{m} \\sigma_{i} g(z_{i}) \\right]\n",
    "$$\n",
    "is a measure of how well a function class G can fit a data distribution. If the empirical Rademacher complexity is low then this suggests that g does not have much variability so it is unable to fit to more variable data. $\\\\$\n",
    "\n",
    "A high empirical Rademacher complexity tells us that the function class can describe more complicated and variable data which means we can expect a lower training error, this is of course a double edged sword as it could also indicate that the hypothesis set is overly complex and may have poor generalisation to unseen data.\n"
   ]
  },
  {
   "cell_type": "markdown",
   "metadata": {},
   "source": [
    "#### Question 7 (Rademacher complexity pt2):\n",
    "\n",
    "The motivation of using the Rademacher complexity in generalisation bounds is that we want to have a set of functions which can fit variable data well (high Rademacher) however this decreases certainty in the true risk.$\\\\$\n",
    "\n",
    "One downside of the function class dependecy is that we may not know the true size of the function class which means we can not compute this bound in practise, a second downside is that since it is coupled with a term depending on N, the sample size, the bound may not accurately reflect the function class complexity for extreme values of |F| (the size of the function class) or extreme N. "
   ]
  },
  {
   "cell_type": "markdown",
   "metadata": {},
   "source": [
    "#### Question 8 (Regularisation term in the loss function):\n",
    "\n",
    "It is good to use a regularisation term in a loss function as this reduces the size of the parameter values meaning that small changes in the input lead to small changes in output. This is therefore a desired property of predictive models as it prevents overfitting as it prevents single parameters from having a disproportionate influence on the prediction thus making the model more robust. The use of a regularisation term also reduces the effect of multicolinearity which also improves model generalisation and robustnes. "
   ]
  },
  {
   "cell_type": "markdown",
   "metadata": {},
   "source": [
    "#### Question 9 (Momentum gradient descent):\n",
    "\n",
    "In momentum gradient descent we use information from the previous descent direction to determine the new descent direction. This gives the effect of being able to speed up convergence as if the previous gradient is positive and the current is also positive we move further in the positive direction than we would without considering the current gradient alone (since the first gradient is further from the minimum). This feature is also beneficial because in traditional gradient descent we have a fixed step size which often leads to the issue of becoming stuck oscillating about minimas however this method can prevent this as if we go from a positive gradient to a negative gradient (or vice versa) we would move in the direction less and prevent oscillation."
   ]
  },
  {
   "cell_type": "markdown",
   "metadata": {},
   "source": [
    "#### Question 10 (Adam):\n",
    "\n",
    "The parameter update step in the adams optimsier algorithm is given by:\n",
    "\n",
    "\n",
    "$$\\theta_t = \\theta_{t-1} - \\alpha \\frac{\\hat{m_t}}{\\sqrt{\\hat{v_t}} + \\epsilon }$$\n",
    "\n",
    "here the $\\theta_{t-1}$ term is the previous set of parameters, the second term $\\alpha \\frac{\\hat{m_t}}{\\sqrt{\\hat{v_t}} + \\epsilon }$ contains the information on the gradient of the current and previous x-value. $\\alpha$ is our stepsize in the direction, $\\hat{m_t}$ is a first moment estimate which contains a component which describes the gradient at the previous iteration. This moment is then scaled by a bias correction term to prevent bias towards the initial moment, this scaling gradually decays over time. We then scale the bias corrected term by $\\sqrt{\\hat{v_t}}$ which represents a scaled second moment which effectively scales the stepsize in each direction. We choose to scale by the second moment as it is more stable and less sensitive to variations in the data than the first moment is. The $\\epsilon$ term is there to prevent division by zero errors. The gradient descent and momentum components are contained in the $m_t = \\beta_1 m_{t-1} + (1-\\beta_1)g_t$ term where $g_t$ represents the current gradient and $m_{t-1}$ is the momentum contribution. \n"
   ]
  },
  {
   "cell_type": "markdown",
   "metadata": {},
   "source": [
    "#### Question 11 (AdaGrad):\n",
    "\n",
    "The update algorithm for AdaGrad is given by:\n",
    " \n",
    "$$\\theta_{t,i} = \\theta_{t-1, i} - \\frac{\\eta}{\\sqrt{G_{t, ii} + \\epsilon}}g_{t, i} $$\n",
    "\n",
    "Here g denotes the gradient and the $\\sqrt{G_{t, ii}}$ term is the diagonal entry of an outerproduct matrix of the gradient and $\\epsilon$ prevents a division by 0 error. Similarly to the Adam optimiser Adagrad updates the gradient direction with a learning rate for each parameter which is its key benefit. This adaptive learning rate is again very valuable as it means that we can converge to minima quicker. An issue with the adagrad optmiser is that it reduces learning rates too aggresively through the sum of squared gradients term $\\sqrt{G_{t, ii}}$.This causes the optmiser to often stagnate instead of reaching its minima."
   ]
  },
  {
   "cell_type": "markdown",
   "metadata": {},
   "source": [
    "#### Question 12 (Decaying Learning Rate):\n",
    "\n",
    "The benefit of using a decaying learning rate is that at an arbitrary initial position we can consider the point to be far from a minima and so a large learning rate would take larger steps towards the minima and so move towards it faster. We would want this learning rate to decay so that as we get closer to the minima, we dont oscillate it and instead we move closer towards it. If this happens enough times we can get arbitrarily close to a local minima. "
   ]
  },
  {
   "cell_type": "markdown",
   "metadata": {},
   "source": [
    "*** \n",
    "***\n",
    "\n",
    "## Part 2: Short-ish proofs [6 points]"
   ]
  },
  {
   "cell_type": "markdown",
   "metadata": {},
   "source": [
    "\n",
    "### Question 2.1: Bounds on the risk [1 point]\n"
   ]
  },
  {
   "cell_type": "markdown",
   "metadata": {},
   "source": [
    "To prove corollary 4.6 we use Hoeffdings inequality which states that for $X_1, ..., X_n$ independent RV's bounded by [$a_i, b_i$] and for $S_m = \\sum_{i=1}^nX_i$, \n",
    "\n",
    "$$P\\left[ S_m - E[S_m] \\geq \\epsilon \\right] \\leq e^{-\\frac{2\\epsilon^2}{\\sum_{i=1}^{m} (b_i - a_i)^2}}$$\n",
    "$$P\\left[ S_m - E[S_m] \\leq -\\epsilon \\right] \\leq e^{-\\frac{2\\epsilon^2}{\\sum_{i=1}^{m} (b_i - a_i)^2}}$$\n",
    "\n",
    "Then letting $L(f(x_i), y_i) = X$,   $\\forall i$ as each $L(f(x_i), y_i) = X$ can be viewed as an iid RV and the loss function is chosen to be bounded by 0, 1 by a scaling. We can set $\\epsilon = N\\epsilon$ and then using the definition of the empirical risk: \n",
    "\n",
    "$$P\\left[N\\hat{R}(f) - NE[\\hat{R}(f)] \\geq N\\epsilon \\right] \\leq e^{-\\frac{2(N\\epsilon)^2}{\\sum_{i=1}^{m} (1 - 0)^2}}$$\n",
    "$$P\\left[ N\\hat{R}(f) - NE[\\hat{R}(f)] \\leq -N\\epsilon \\right] \\leq e^{-\\frac{2(N\\epsilon)^2}{\\sum_{i=1}^{m} (1- 0)^2}}$$\n",
    "\n",
    "Simplifying the expressions we get the desired result. \n",
    "\n",
    "$$P\\left[\\hat{R}(f) - {R(f)} \\geq \\epsilon \\right] \\leq e^{-{2N\\epsilon^2}}$$\n",
    "$$P\\left[\\hat{R}(f) - {R(f)} \\leq -\\epsilon \\right] \\leq e^{-2N\\epsilon^2}$$\n"
   ]
  },
  {
   "cell_type": "markdown",
   "metadata": {},
   "source": [
    "Q2. A large sample size N gives us more confidence in our empirical estimate and tells us we are closer to the true risk. This is because we can rewrite the probabilities as \n",
    "$$ P\\left[|\\hat{R}(f) - {R(f)}| \\geq \\epsilon \\right] \\leq 2e^{-2N\\epsilon^2}$$ \n",
    "Now by increasing N we become more certain of the true value of the risk as the term $e^{-2N\\epsilon^2}$ is decreasing however the benefit of further samples contributes less and less due to the exponential form.\n"
   ]
  },
  {
   "cell_type": "markdown",
   "metadata": {},
   "source": [
    "Q3. Theorem 4.8 tells us that there is a tradeoff between choosing a large hypothesis set and reducing the empirical risk. Choosing a larger hypothesis set allows us to find an f which reduces the empirical error $\\hat{R}(f)$ however it also reduces our certainty in ${R(f)} - \\hat{R}(f)$ as |F| increases due to the log(|F|) term."
   ]
  },
  {
   "cell_type": "markdown",
   "metadata": {},
   "source": [
    "***\n",
    "\n",
    "### Question 2.2: On semi-definiteness [1 point]"
   ]
  },
  {
   "cell_type": "markdown",
   "metadata": {},
   "source": [
    "We have that g(t) = f(x+tv), given that f is convex we can show that g is convex by using the definition of convexity. $\\forall t_1, t_2 \\in \\R$ such that $t_2 > t_1$, $\\lambda \\in [0,1]$\n",
    "\n",
    "$$g(\\lambda t_1 + (1-\\lambda)t_2) \\leq \\lambda g(t_1) + (1-\\lambda)g(t_2) = f(x + (\\lambda(t_1) + (1-\\lambda)t_2)v)$$\n",
    "$$= f(\\lambda(x+t_1v) + (1-\\lambda)(x+t_2v)) \\leq \\lambda f(x+t_1v) + (1-\\lambda)f(x+t_2v))$$\n",
    "$$ = \\lambda g(t_1) + (1-\\lambda)g(t_2) $$\n",
    "\n",
    "Thus g is convex. Given that f is twice differentiable we can find the second derivative of g. \n",
    "\n",
    "$$g'(t) = \\nabla f(x+tv) \\cdot v$$\n",
    "$$g''(t) = v^T \\cdot \\nabla^2 f(x+tv) \\cdot v$$\n",
    "\n",
    "We know that $g''(t) \\geq 0$ for all t as:\n",
    "\n",
    "$$g(t_1) \\geq g(t_2) + g'(t_2)(t_1-t_2) $$\n",
    "$$g(t_2) \\geq g(t_1) + g'(t_1)(t_2-t_1) $$\n",
    "\n",
    "this gives us\n",
    "\n",
    "$$g'(t_1)(t_2-t_1) \\leq g(t_2) - g(t_1) \\leq g'(t_2)(t_2-t_1)$$\n",
    "\n",
    "Dividing the LHS and RHS by $(t_2 - t_1)^2$ we get\n",
    "\n",
    "$$\\frac{g'(t_2) - g'(t_1)}{t_2 - t_1} \\geq 0 $$\n",
    "\n",
    "as we let $t_1 \\rightarrow t_2$\n",
    "$$g''(t_2) \\geq 0  $$\n",
    "\n",
    "Finally this means that $g''(t) = v^T \\cdot \\nabla^2 f(x+tv) \\cdot v \\geq 0 $ hence $\\nabla^2 f(x)$ is positive semi-definite."
   ]
  },
  {
   "cell_type": "markdown",
   "metadata": {},
   "source": [
    "***\n",
    "\n",
    "### Question 2.3: A quick recap of momentum [1 point]"
   ]
  },
  {
   "cell_type": "markdown",
   "metadata": {},
   "source": [
    "Q1. \n",
    "In the traditional gradient descent algorithm our updates are:\n",
    "\n",
    "$$x_{k+1} = x_{k} - \\alpha (Sx_k - b)$$\n",
    "\n",
    "after applying the change of basis we get,\n",
    "\n",
    "$$w^i_{k+1} = w^i_{k} - \\alpha \\lambda_i w^i_k$$\n",
    "\n",
    "\n",
    "And now consider the update step for momentum gradient descent before a change of basis:\n",
    "$$x_{k+1} = x_k - \\alpha z_{k+1}$$\n",
    "$$z_{k+1} = \\beta z_k + (Sx_k - b) $$\n",
    "\n",
    "By applying the change of basis $w_k = Q^T(x_k - x_*)$ and $y_k = Q^Tz_k$ we can rewrite the updates as:\n",
    "\n",
    "$$w^i_{k+1} = w^i_k - \\alpha y^i_{k+1} $$\n",
    "$$y^i_{k+1} = \\beta y^i_k + \\lambda_i w^i_k$$\n",
    "\n",
    "Importantly the change in basis allows us to obtain a gradient step whcich becomes completely independent of S or b and so there is a computational gain in computing these steps as we no longer need to perform matrix vector multiplication to compute the updates and instead we can use a linear update step. This approach is also beneficial as it allows us to calculate rates of convergence using the maximal eigenvalues. This is useful as it tells us if the algoithm will converge and if it does, how fast this convergence will be. \n"
   ]
  },
  {
   "cell_type": "markdown",
   "metadata": {},
   "source": [
    "Q2. \n",
    "The Downside to using the optimal convergence rate is that it is under the condition that S must be symmetric and invertible which may not be true in practise secondly calculating the optimal rate requires computation of the eigenvalues of the matrix S which can be an expensive operation. Lastly if the condition number of the matrix is large then we the optimal learning rate will be close to 1 which could be too large and lead to oscillatory behaviour about the minima. \n",
    "\n",
    "\n",
    "\n",
    "Q3.\n",
    "We are interested in analysing if $R^k$ converges to zero quickly - this is a property of the eigenvalues of R. A bound on the update steps tell us that we converge at a linear rate determined by the maximal eigenvalue of R. \n",
    "\n",
    "Q4.\n",
    "In the case where our eigenvalues are complex then the rate of convergence is $\\sqrt{\\beta}$ meaning we can try to optimise this rate using the parameter values $\\alpha \\text{and} \\beta$. We can then get convergence results using momentum which are far faster than vanilla gradient descent which is verifiable by a reduction in the rate of convergence from:\n",
    "\n",
    "$$ \\frac{c-1}{c+1}$$ \n",
    "\n",
    "as compared to \n",
    "\n",
    "$$ \\frac{\\sqrt{c}-1}{\\sqrt{c}+1}$$\n",
    "\n",
    "where c denotes the condition number of the matrix. \n"
   ]
  },
  {
   "cell_type": "markdown",
   "metadata": {},
   "source": [
    "***\n",
    "\n",
    "### Question 2.4: Convergence proof [3 points]"
   ]
  },
  {
   "cell_type": "markdown",
   "metadata": {},
   "source": [
    "Q1. Newtons evolution is given by \n",
    "$$x_{k+1} = x_k - (\\nabla^2 f(x_k))^{-1}\\nabla f(x_k)$$\n",
    "\n",
    "The idea behind this method is that we are solving a local quadratic optimisation problem. This formula comes from the solution of \n",
    "$$\\nabla f(x_k) + \\nabla^2 f(x_k)(x - x_k) = 0 $$ \n",
    "where this formula comes from setting the gradient of the first two terms of the taylor series expansion to 0. Only considering the first two terms is why we consider it a local solution. \n",
    "\n",
    "Q2. \n",
    "We can show convergence in one step by considering the first and second derivatives of the function f(x). \n",
    "\n",
    "$$\\nabla f(x) = Qx + b$$\n",
    "$$\\nabla^2f(x) = Q$$\n",
    "then substituting this into Newtons update equation we get:\n",
    "\n",
    "$$x_{k+1} = x_k - Q^{-1}(Qx_k + b) = x_k - x_k - Q^{-1}b = -Q^{-1}b$$\n",
    "\n",
    "Hence we have converged to a fixed point in one step. \n",
    "\n",
    "Q3.\n",
    "The above statement tells us that for a quadratic function f(x) with positive definite Hessian we can converge in one step to the optimum $x_*$. More importantly for a general function f which is 3 times continuously differentiable, i.e  $f \\in C^3$, with a minimum point $x^*$ s.t $\\nabla{f(x^*)} = 0$ and invertible hessian at the minima $\\nabla^2f(x^*)$ then Newtons method will guarantee convergence to $x^*$ from any starting point $x_0$ for $x_0 \\in B(x^*, \\epsilon)$ with quadratic convergence rate.\n",
    "\n"
   ]
  },
  {
   "cell_type": "markdown",
   "metadata": {},
   "source": [
    "Q4.\n",
    "\n",
    "Using Newton's update rule we have:\n",
    "\n",
    "$$ x_1 = x_0 - [\\nabla^2 f(x_0)]^{-1} \\nabla f(x_0) $$\n",
    "\n",
    "Subtracting $x^*$ from both sides gives us:\n",
    "\n",
    "$$ x_1 - x^* = (x_0 - x^*) - [\\nabla^2 f(x_0)]^{-1} (\\nabla f(x_0))$$\n",
    "$$ = (\\nabla^2 f(x_0))^{-1}[\\nabla^2 f(x_0)(x_0 - x_*) - \\nabla f(x_0)] $$\n",
    "\n",
    "Applying lemma 0.1, we get\n",
    "\n",
    "$$ \\|x_1 - x^*\\| \\leq \\|\\nabla^2 f(x_0)^{-1}\\| \\|\\nabla^2 f(x_0)(x_0 - x^*) - \\nabla f(x_0)\\| $$"
   ]
  },
  {
   "cell_type": "markdown",
   "metadata": {},
   "source": [
    "\n",
    "\n",
    "5. \n",
    "\n",
    "Taking the Taylor expansion of $\\nabla f(x)$ about $x_0$ gives us \n",
    "\n",
    "$$ \\nabla f(x) = \\nabla f(x_0) + \\nabla^2 f(x_0)(x-x_0) + O((x-x_0)^2)$$\n",
    "\n",
    "\n",
    "Evaualting this at $x^*$ gives\n",
    "\n",
    "$$ \\nabla f(x^*) = 0 = \\nabla f(x_0) + \\nabla^2 f(x_0)(x^*-x_0) + O((x^*-x_0)^2) $$\n",
    "$$ -\\nabla f(x_0) = \\nabla^2 f(x_0)(x^*-x_0) + O((x^*-x_0)^2)$$\n",
    "\n",
    "Using Taylors upper bound on remainder terms $\\exists c_2>0$ s.t. $\\|O((x^*-x_0)^2)\\| \\leq c_2\\|x^*-x_0\\|^2$. \n",
    "$$ -\\nabla f(x_0) \\leq \\nabla^2 f(x_0)(x^*-x_0) + c_2\\|x^*-x_0\\|^2$$\n",
    "\n",
    "Plugging this into the result derived in the previous part\n",
    "\n",
    "$$\\|x_1 - x^*\\| \\leq \\|(\\nabla^2 f(x_0))^{-1}\\| \\|((\\nabla^2 f(x_0))(x_0 - x^*) + \\nabla^2 f(x_0)(x^*-x_0) + c_2\\|x^*-x_0\\|^2)\\|$$\n",
    "\n",
    "Then applying Lemma 0.2, for $x_0\\in B(x^*,\\epsilon)$, the Hessian is invertible and bounded by some constant $c_1$.\n",
    "\n",
    "$$\\|x_1 - x^*\\| \\leq c_2\\|(\\nabla^2 f(x_0))^{-1}\\|\\|x^*-x_0\\|^2$$\n",
    "\n",
    "$$\\|x_1 - x^*\\| \\leq c_1c_2\\|x^*-x_0\\|^2$$"
   ]
  },
  {
   "cell_type": "markdown",
   "metadata": {},
   "source": [
    "6. \n",
    "\n",
    "For $ x_0 \\in B(x^*, \\epsilon) $ which satisfies $ \\|x_0 - x^*\\| \\leq \\frac{\\alpha}{c_1c_2} $ for some $\\alpha \\in (0,1) $, we can apply the above result to get:\n",
    "\n",
    "$$ \\|x_1 - x^*\\| \\leq c_1c_2 \\|x_0 - x^*\\|^2 $$\n",
    "\n",
    "Since $ \\|x_0 - x^*\\| \\leq \\frac{\\alpha}{c_1c_2} $, we substitute this into the inequality:\n",
    "\n",
    "$$ \\|x_1 - x^*\\| \\leq c_1c_2 \\left(\\frac{\\alpha}{c_1c_2}\\right)^2 = \\frac{\\alpha^2}{c_1c_2} $$\n",
    "\n",
    "Clearly $ \\alpha^2 < \\alpha $ since $0 < \\alpha < 1$:\n",
    "\n",
    "$$ \\|x_1 - x^*\\| \\leq \\frac{\\alpha^2}{c_1c_2} < \\frac{\\alpha}{c_1c_2} $$"
   ]
  },
  {
   "cell_type": "markdown",
   "metadata": {},
   "source": [
    "\n",
    "Q7.\n",
    "We can apply the result from part 5 as it is true $\\forall x_k \\in B(x^*, \\epsilon)$\n",
    "\n",
    "$$||x_{k+1} - x^*|| \\leq c_1c_2||x_k -x^*||^2 $$\n",
    "\n",
    "\n",
    "\n",
    "Q8.\n",
    "Using an iterative argument we see that $ \\{x_k\\} $ converges to $ x^* $ because the distance to $ x^* $ decreases at each step. Applying the results from parts 6 and 7:\n",
    "\n",
    "$$ \\|x_{k+1} - x^*\\| \\leq {\\alpha} \\|x_k - x^*\\|. $$\n",
    "\n",
    "As $ k \\rightarrow \\infty$, $x_k \\rightarrow x^*$ due to the previous part which tells us $ \\|x_{k+1} - x^*\\| < \\|x_{k} - x^*\\| $ because $ \\alpha < 1 $. Iteratively $ \\|x_{k} - x^*\\| \\leq \\alpha^k\\|x_{0} - x^*\\| $. Convergence is quadratic using the fact that $\\exists K$ s.t $\\|x_{K}-x^*\\|<1$. From this point, there is quadratic convergence because\n",
    "$$\\forall K'\\geq K, \\|x_{K'+1} - x^*\\|\\leq c_1c_2\\|x_{K'}-x^*\\|^2$$\n",
    "proving that the convergence is quadratic (due to the squared term)."
   ]
  },
  {
   "cell_type": "markdown",
   "metadata": {},
   "source": [
    "***\n",
    "***\n",
    "\n",
    "## Part 3: A deeper dive into neural network implementations [3 points]"
   ]
  },
  {
   "cell_type": "code",
   "execution_count": 30,
   "metadata": {},
   "outputs": [],
   "source": [
    "# Import libraries\n",
    "import numpy as np\n",
    "import torch\n",
    "import torch.nn as nn\n",
    "import torchvision\n",
    "\n",
    "import torchvision.transforms as transforms\n",
    "import matplotlib.pyplot as plt\n",
    "import torch.optim as optim\n"
   ]
  },
  {
   "cell_type": "code",
   "execution_count": 47,
   "metadata": {},
   "outputs": [
    {
     "name": "stdout",
     "output_type": "stream",
     "text": [
      "Files already downloaded and verified\n",
      "Files already downloaded and verified\n",
      "Files already downloaded and verified\n",
      "Files already downloaded and verified\n"
     ]
    }
   ],
   "source": [
    "# Download datasets\n",
    "train_set_mnist = torchvision.datasets.MNIST(root=\"./\", download=True,\n",
    "                                         train=True, transform=transforms.Compose([transforms.ToTensor()]))\n",
    "\n",
    "test_set_mnist = torchvision.datasets.MNIST(root=\"./\",download=True,\n",
    "                                        train=False,transform=transforms.Compose([transforms.ToTensor()]),)\n",
    "\n",
    "train_set_cifar = torchvision.datasets.CIFAR10(root=\"./\", download=True,\n",
    "                                         train=True, transform=transforms.Compose([transforms.ToTensor()]))\n",
    "\n",
    "test_set_cifar = torchvision.datasets.CIFAR10(root=\"./\",download=True,\n",
    "                                        train=False,transform=transforms.Compose([transforms.ToTensor()]),)\n",
    "\n",
    "#Normalise MNIST\n",
    "train_X_mnist = train_set_mnist.data.numpy()  # Convert train images to NumPy array\n",
    "train_mean_mnist = np.mean(train_X_mnist / 255.0) \n",
    "train_std_mnist = np.std(train_X_mnist / 255.0)\n",
    "train_set_mnist = torchvision.datasets.MNIST(root=\"./\", download=True, train=True, transform=transforms.Compose([transforms.ToTensor(),transforms.Normalize(train_mean_mnist, train_std_mnist)]),)\n",
    "test_set_mnist = torchvision.datasets.MNIST(root=\"./\",download=True,train=False,transform=transforms.Compose([transforms.ToTensor(),transforms.Normalize(train_mean_mnist, train_std_mnist)]),)\n",
    "\n",
    "\n",
    "#Normalise CIFAR\n",
    "train_mean_cifar = np.mean(train_set_cifar.data / 255.0) \n",
    "train_std_cifar = np.std(train_set_cifar.data / 255.0)\n",
    "train_set_cifar = torchvision.datasets.CIFAR10(root=\"./\", download=True, train=True, transform=transforms.Compose([transforms.ToTensor(),transforms.Normalize(train_mean_cifar, train_std_cifar)]),)\n",
    "test_set_cifar = torchvision.datasets.CIFAR10(root=\"./\",download=True,train=False,transform=transforms.Compose([transforms.ToTensor(),transforms.Normalize(train_mean_cifar, train_std_cifar)]),)\n",
    "\n"
   ]
  },
  {
   "cell_type": "markdown",
   "metadata": {},
   "source": [
    "I have normalised the MNIST data set by subtracting the mean and dividing by the standard deviation of the training data. This improves convergence speed and also acts as a form of regularisation to prevent overfitting and model generalisability. "
   ]
  },
  {
   "cell_type": "code",
   "execution_count": 32,
   "metadata": {},
   "outputs": [
    {
     "data": {
      "text/plain": [
       "<torch._C.Generator at 0x10abc3c10>"
      ]
     },
     "execution_count": 32,
     "metadata": {},
     "output_type": "execute_result"
    }
   ],
   "source": [
    "# Set seed\n",
    "SEED = 1854788\n",
    "np.random.seed(SEED)\n",
    "torch.manual_seed(SEED)"
   ]
  },
  {
   "cell_type": "markdown",
   "metadata": {},
   "source": [
    "***\n",
    "\n",
    "### Part 3.1: Implementations [1 point]"
   ]
  },
  {
   "cell_type": "code",
   "execution_count": 33,
   "metadata": {},
   "outputs": [],
   "source": [
    "# You can of course add more cells of both code and markdown. Please remember to comment the code and explain your reasoning. Include docstrings. Tutorial provide a good example of how to style your code.\n",
    "# Although not compulsory you could challenge yourself by using object oriented programming to structure your code.\n",
    "import numpy as np\n",
    "import torch\n",
    "import torch.nn as nn\n",
    "import torchvision\n",
    "import torchvision.transforms as transforms \n",
    "import matplotlib.pyplot as plt \n",
    "import torch.optim as optim \n",
    "\n",
    "\n",
    "class Net(nn.Module):\n",
    "    def __init__(self, dim, nclass, width, depth):\n",
    "        \"\"\"\n",
    "        Inputs:\n",
    "        dim - Dimension of input\n",
    "        nclass - Number of output classes \n",
    "        width - Number of Neurons in each layer \n",
    "        depth - Number of layers\n",
    "        \"\"\"\n",
    "        #Initialise using super class\n",
    "        super().__init__()\n",
    "        #Flatten data into 1D array\n",
    "        self.flatten = nn.Flatten()\n",
    "        #Defines the first layer\n",
    "        self.layer1 = nn.Linear(dim, width)\n",
    "        #Create hidden layers with constant width\n",
    "        self.hidden_layers = nn.ModuleList([nn.Linear(width,width) for _ in range(depth-1)])\n",
    "        #Store Relu function as class attribute\n",
    "        self.relu = nn.ReLU()\n",
    "        #final layer to output\n",
    "        self.output = nn.Linear(width, nclass)\n",
    "    \n",
    "    def forward(self, x):\n",
    "        \"\"\"\n",
    "        Defines a single forward pass through the network \n",
    "        Inputs:\n",
    "        x - Data to be passed through the network\n",
    "        Output:\n",
    "        Returns a nclass length vector of unscaled probabilities\n",
    "        \"\"\"\n",
    "        #Flatten data so it can be processed\n",
    "        x = self.flatten(x)\n",
    "        #pass to first layer \n",
    "        x = self.layer1(x)\n",
    "        #Apply activation function\n",
    "        x = self.relu(x)\n",
    "        \n",
    "        #Loopp through d hidden layers \n",
    "        for _, layer in enumerate(self.hidden_layers):\n",
    "            x = self.relu(layer(x))\n",
    "            \n",
    "        return self.output(x)\n",
    "    \n",
    "def loading_data(batch_size, train_set, test_set):\n",
    "    \"\"\"\n",
    "    Returns batched data for the training and test sets.\n",
    "\n",
    "    Inputs:\n",
    "    batch_size - size of batch used per training iteration\n",
    "    train_set - training dataset\n",
    "    test_set - test dataset\n",
    "\n",
    "    Outputs:\n",
    "    trainloader - Shuffled training data in batches of batch_size\n",
    "    testloader - Loads test data into a dataloader\n",
    "    \"\"\"\n",
    "    trainloader = torch.utils.data.DataLoader(train_set, batch_size=batch_size, shuffle = True)\n",
    "    testloader = torch.utils.data.DataLoader(test_set, batch_size = len(test_set))\n",
    "    return trainloader, testloader\n",
    "    \n",
    "def train_epoch(traindata, net, optimizer, criterion):\n",
    "    \"\"\"\n",
    "    Runs one training epoch to update parameter values \n",
    "    \n",
    "    Inputs:\n",
    "    traindata - training data in batches \n",
    "    net - Neural network architecture \n",
    "    optimizer - optimizer function \n",
    "    criterion - loss function to determing updates\n",
    "\n",
    "    Output - returns total_loss across entire training data set\n",
    "\n",
    "    \"\"\"\n",
    "    #Initialise loss value\n",
    "    total_loss = 0\n",
    "    for batch_data, batch_labels in traindata:\n",
    "        #Zero out gradients to prevent accumulation of gradients across batches \n",
    "        optimizer.zero_grad()\n",
    "        #Forward pass through net \n",
    "        output = net.forward(batch_data)\n",
    "\n",
    "        # Compute loss\n",
    "        loss = criterion(output, batch_labels)        \n",
    "        total_loss += loss.item()\n",
    "        # Backward pass to calculate gradients\n",
    "        loss.backward()\n",
    "        # Update weigths using chosen optimiser\n",
    "        optimizer.step()\n",
    "    #Calculate loss after epoch \n",
    "    return total_loss\n",
    "\n",
    "def test_epoch(testdata, net, criterion):\n",
    "    \"\"\"\n",
    "    Inputs:\n",
    "    testdata - test data to check performance \n",
    "    net - Neural network architecture \n",
    "    criterion - loss function to check performance \n",
    "    \"\"\"\n",
    "\n",
    "    #Calculate loss and error\n",
    "    for data, labels in testdata:\n",
    "        n = len(labels)\n",
    "        output = net.forward(data)\n",
    "        loss = criterion(output, labels).item()\n",
    "        error = torch.sum((torch.argmax(output, dim=1) != labels))\n",
    "    return loss/n, error/n\n",
    "    "
   ]
  },
  {
   "cell_type": "code",
   "execution_count": 34,
   "metadata": {},
   "outputs": [],
   "source": [
    "def train(train_data, test_data, dim, width=256, depth=5, nclass = 10, num_epochs=10, learning_rate=1e-3, batch_size=64, print_info=True):\n",
    "    \"\"\"\n",
    "    Train a Neural network with chosen architecture and data \n",
    "\n",
    "    Inputs:\n",
    "    train_data - training dataset\n",
    "    test_data - test dataset\n",
    "    dim - Dimension of input data\n",
    "    width - width of hidden layers\n",
    "    depth - number of layers\n",
    "    num_epochs - number of training epochs \n",
    "    learning_rate - learning rate for optimiser \n",
    "    batch_size - batch size for training data (size of data before an update step)\n",
    "    print_info - If true will print information about loss and error\n",
    "\n",
    "    \"\"\"\n",
    "    #Initialise Neural Net \n",
    "    net = Net(dim, nclass, width, depth)\n",
    "    train_loss = []\n",
    "    test_loss = []\n",
    "    #Criterion defined to be the Cross-Entropy loss\n",
    "    CE = nn.CrossEntropyLoss()\n",
    "    #Chosen optimisation algorithm\n",
    "    Adam = torch.optim.Adam(params = net.parameters(), lr=learning_rate)\n",
    "    #Run num_epochs many epochs for training \n",
    "    for epoch in range(num_epochs):\n",
    "        #Load data each time to prevent algorithm learning order of data\n",
    "        train, test = loading_data(batch_size, train_data, test_data)\n",
    "        #Calculate losses\n",
    "        train_loss_val = train_epoch(train, net, Adam, CE)\n",
    "        test_loss_val, test_err = test_epoch(test, net, CE)\n",
    "        train_loss.append(train_loss_val)\n",
    "        test_loss.append(test_loss_val)\n",
    "        if print_info:\n",
    "            print(f\"Epoch: {epoch:03} |Total Train Loss: {train_loss_val:.04} |Avg. Test Loss: {test_loss_val:.04} | Test Error: {test_err:.04}\")\n",
    "\n",
    "    if not print_info:\n",
    "        print(f\"Epoch: {epoch:03} |Total Train Loss: {train_loss_val:.04} |Avg. Test Loss: {test_loss_val:.04} | Test Error: {test_err:.04}\")\n",
    "\n",
    "    return net, train_loss, test_loss\n"
   ]
  },
  {
   "cell_type": "code",
   "execution_count": null,
   "metadata": {},
   "outputs": [],
   "source": []
  },
  {
   "cell_type": "markdown",
   "metadata": {},
   "source": [
    "***\n",
    "\n",
    "### Part 3.2: Numerical exploration [2 points]"
   ]
  },
  {
   "cell_type": "code",
   "execution_count": 35,
   "metadata": {},
   "outputs": [
    {
     "name": "stdout",
     "output_type": "stream",
     "text": [
      "Epoch: 000 |Total Train Loss: 258.4 |Avg. Test Loss: 1.445e-05 | Test Error: 0.0432\n",
      "Epoch: 001 |Total Train Loss: 109.2 |Avg. Test Loss: 1.011e-05 | Test Error: 0.0304\n",
      "Epoch: 002 |Total Train Loss: 72.74 |Avg. Test Loss: 9.336e-06 | Test Error: 0.0285\n",
      "Epoch: 003 |Total Train Loss: 54.53 |Avg. Test Loss: 7.721e-06 | Test Error: 0.0239\n",
      "Epoch: 004 |Total Train Loss: 41.13 |Avg. Test Loss: 7.609e-06 | Test Error: 0.0251\n",
      "Epoch: 005 |Total Train Loss: 31.3 |Avg. Test Loss: 7.518e-06 | Test Error: 0.023\n",
      "Epoch: 006 |Total Train Loss: 24.41 |Avg. Test Loss: 6.977e-06 | Test Error: 0.0202\n",
      "Epoch: 007 |Total Train Loss: 19.85 |Avg. Test Loss: 6.66e-06 | Test Error: 0.0198\n",
      "Epoch: 008 |Total Train Loss: 16.03 |Avg. Test Loss: 6.575e-06 | Test Error: 0.0178\n",
      "Epoch: 009 |Total Train Loss: 13.3 |Avg. Test Loss: 7.058e-06 | Test Error: 0.0213\n",
      "Epoch: 010 |Total Train Loss: 10.76 |Avg. Test Loss: 7.711e-06 | Test Error: 0.0197\n",
      "Epoch: 011 |Total Train Loss: 9.988 |Avg. Test Loss: 8.423e-06 | Test Error: 0.022\n",
      "Epoch: 012 |Total Train Loss: 7.519 |Avg. Test Loss: 7.486e-06 | Test Error: 0.0177\n",
      "Epoch: 013 |Total Train Loss: 7.534 |Avg. Test Loss: 7.406e-06 | Test Error: 0.0183\n",
      "Epoch: 014 |Total Train Loss: 6.229 |Avg. Test Loss: 8.016e-06 | Test Error: 0.019\n",
      "Epoch: 015 |Total Train Loss: 5.048 |Avg. Test Loss: 8.923e-06 | Test Error: 0.0202\n",
      "Epoch: 000 |Total Train Loss: 284.8 |Avg. Test Loss: 1.425e-05 | Test Error: 0.0449\n",
      "Epoch: 001 |Total Train Loss: 108.8 |Avg. Test Loss: 1.148e-05 | Test Error: 0.0341\n",
      "Epoch: 002 |Total Train Loss: 77.84 |Avg. Test Loss: 8.66e-06 | Test Error: 0.0262\n",
      "Epoch: 003 |Total Train Loss: 61.5 |Avg. Test Loss: 9.434e-06 | Test Error: 0.0268\n",
      "Epoch: 004 |Total Train Loss: 49.64 |Avg. Test Loss: 8.244e-06 | Test Error: 0.0237\n",
      "Epoch: 005 |Total Train Loss: 39.12 |Avg. Test Loss: 8.226e-06 | Test Error: 0.0243\n",
      "Epoch: 006 |Total Train Loss: 35.38 |Avg. Test Loss: 8.505e-06 | Test Error: 0.0231\n",
      "Epoch: 007 |Total Train Loss: 32.72 |Avg. Test Loss: 7.281e-06 | Test Error: 0.02\n",
      "Epoch: 008 |Total Train Loss: 25.67 |Avg. Test Loss: 9.196e-06 | Test Error: 0.0229\n",
      "Epoch: 009 |Total Train Loss: 24.88 |Avg. Test Loss: 8.397e-06 | Test Error: 0.0206\n",
      "Epoch: 010 |Total Train Loss: 21.42 |Avg. Test Loss: 7.37e-06 | Test Error: 0.019\n",
      "Epoch: 011 |Total Train Loss: 20.82 |Avg. Test Loss: 8.278e-06 | Test Error: 0.0198\n",
      "Epoch: 012 |Total Train Loss: 18.37 |Avg. Test Loss: 8.756e-06 | Test Error: 0.0191\n",
      "Epoch: 013 |Total Train Loss: 17.59 |Avg. Test Loss: 8.223e-06 | Test Error: 0.0188\n",
      "Epoch: 014 |Total Train Loss: 15.71 |Avg. Test Loss: 8.012e-06 | Test Error: 0.0186\n",
      "Epoch: 015 |Total Train Loss: 13.59 |Avg. Test Loss: 8.434e-06 | Test Error: 0.0194\n",
      "Epoch: 000 |Total Train Loss: 431.6 |Avg. Test Loss: 1.867e-05 | Test Error: 0.0485\n",
      "Epoch: 001 |Total Train Loss: 150.0 |Avg. Test Loss: 1.377e-05 | Test Error: 0.0364\n",
      "Epoch: 002 |Total Train Loss: 107.8 |Avg. Test Loss: 1.127e-05 | Test Error: 0.0293\n",
      "Epoch: 003 |Total Train Loss: 87.46 |Avg. Test Loss: 1.525e-05 | Test Error: 0.0367\n",
      "Epoch: 004 |Total Train Loss: 72.41 |Avg. Test Loss: 9.793e-06 | Test Error: 0.0245\n",
      "Epoch: 005 |Total Train Loss: 63.31 |Avg. Test Loss: 1.16e-05 | Test Error: 0.0282\n",
      "Epoch: 006 |Total Train Loss: 56.37 |Avg. Test Loss: 1.341e-05 | Test Error: 0.0306\n",
      "Epoch: 007 |Total Train Loss: 53.81 |Avg. Test Loss: 1.107e-05 | Test Error: 0.0253\n",
      "Epoch: 008 |Total Train Loss: 45.33 |Avg. Test Loss: 1.188e-05 | Test Error: 0.0256\n",
      "Epoch: 009 |Total Train Loss: 42.21 |Avg. Test Loss: 1.13e-05 | Test Error: 0.023\n",
      "Epoch: 010 |Total Train Loss: 34.78 |Avg. Test Loss: 1.117e-05 | Test Error: 0.024\n",
      "Epoch: 011 |Total Train Loss: 37.87 |Avg. Test Loss: 1.088e-05 | Test Error: 0.0231\n",
      "Epoch: 012 |Total Train Loss: 33.93 |Avg. Test Loss: 9.996e-06 | Test Error: 0.0219\n",
      "Epoch: 013 |Total Train Loss: 28.79 |Avg. Test Loss: 1.447e-05 | Test Error: 0.0272\n",
      "Epoch: 014 |Total Train Loss: 27.37 |Avg. Test Loss: 9.477e-06 | Test Error: 0.019\n",
      "Epoch: 015 |Total Train Loss: 24.26 |Avg. Test Loss: 1.139e-05 | Test Error: 0.0207\n"
     ]
    }
   ],
   "source": [
    "#Task 6\n",
    "net_1, tloss1, teloss1 = train(train_set_mnist, test_set_mnist, dim = 28*28, width=256, depth=1, num_epochs=16, learning_rate=5e-4, print_info=True)\n",
    "net_5, tloss5, teloss5 = train(train_set_mnist, test_set_mnist, dim = 28*28, width=256, depth=5, num_epochs = 16, learning_rate=5e-4,  print_info=-True)\n",
    "net_10, tloss10, teloss10 = train(train_set_mnist, test_set_mnist, dim = 28*28, width=256, depth=10, num_epochs=16, learning_rate=5e-4,  print_info=True)"
   ]
  },
  {
   "cell_type": "code",
   "execution_count": 36,
   "metadata": {},
   "outputs": [
    {
     "data": {
      "image/png": "[encoded data removed]",
      "text/plain": [
       "<Figure size 432x288 with 1 Axes>"
      ]
     },
     "metadata": {
      "needs_background": "light"
     },
     "output_type": "display_data"
    },
    {
     "data": {
      "image/png": "[encoded data removed]",
      "text/plain": [
       "<Figure size 432x288 with 1 Axes>"
      ]
     },
     "metadata": {
      "needs_background": "light"
     },
     "output_type": "display_data"
    }
   ],
   "source": [
    "plt.plot([i for i in range(1, 17)],tloss1, label = \"Depth = 1\")\n",
    "plt.plot([i for i in range(1, 17)],tloss5, label = \"Depth = 5\")\n",
    "plt.plot([i for i in range(1, 17)],tloss10, label = \"Depth = 10\")\n",
    "plt.xlabel(\"Number of Epochs\")\n",
    "plt.ylabel(\"Training loss \")\n",
    "plt.legend()\n",
    "plt.title(\"Effect of depth on Training loss\")\n",
    "plt.show()\n",
    "\n",
    "\n",
    "plt.plot([i for i in range(1, 17)],teloss1, label = \"Depth = 1\")\n",
    "plt.plot([i for i in range(1, 17)],teloss5, label = \"Depth = 5\")\n",
    "plt.plot([i for i in range(1, 17)],teloss10, label = \"Depth = 10\")\n",
    "plt.legend()\n",
    "plt.xlabel(\"Number of Epochs\")\n",
    "plt.ylabel(\"Average Test loss \")\n",
    "plt.title(\"Effect of depth on Test loss\")\n",
    "plt.show()"
   ]
  },
  {
   "cell_type": "markdown",
   "metadata": {},
   "source": [
    "After comparing a variety of learning rates and number of epochs I have found that a learning rate of 5e-4 works well across each network architecture. The reason I have chosen this learning rate is because a smaller learning rate (1e-4) has convergence which is too slow for the larger models (depth=10) as the larger models have a huge number of parameters and a learning raete which is too high (1e-3) converges too quickly for the depth=1 case and so begins to oscillate about the minima during the optimisation step which causes unstable test errors. I could have also chosen to use the smaller learning rate 1e-4 and increased the number of epochs, however after testing this for 30 epochs the improvement is marginal and it can be argued that it is not worth the extra training time. Looking at the plot above for the test error after N epochs we see that after about 10 epochs the depth=1 network seems to have converged, for both the depth=5 and depth=10 network they also flatten out at approximately x=6 suggesting that 6 epochs is enough to train each network with the chosen learning rate. This value varies due to randomness involved in the process but after running it a few times it seems as though between epochs 4 and 8 the process becomes stable. \n",
    "Notice that the training loss is consistently decreasing throughout each epoch however the test loss fluctuates - this could be an indication of overfitting and so if we see consistent increases in test loss we should stop training the neural network. I have not chosen to do that here as it is also a symptom of parameter choices and since the parameter choices need to be kept constant across the models it would not be fair to stop training one model and not the other. \n",
    "\n",
    "$\\\\$\n",
    "Width = 256, number of epochs = 16, learning rate = 5e-4, batch size = 64"
   ]
  },
  {
   "cell_type": "code",
   "execution_count": 37,
   "metadata": {},
   "outputs": [
    {
     "name": "stdout",
     "output_type": "stream",
     "text": [
      "Epoch: 009 |Total Train Loss: 496.4 |Avg. Test Loss: 5.145e-05 | Test Error: 0.1468\n",
      "Epoch: 009 |Total Train Loss: 253.9 |Avg. Test Loss: 2.726e-05 | Test Error: 0.0766\n",
      "Epoch: 009 |Total Train Loss: 160.3 |Avg. Test Loss: 1.893e-05 | Test Error: 0.0576\n",
      "Epoch: 009 |Total Train Loss: 82.08 |Avg. Test Loss: 1.133e-05 | Test Error: 0.0349\n",
      "Epoch: 009 |Total Train Loss: 40.84 |Avg. Test Loss: 8.625e-06 | Test Error: 0.026\n",
      "Epoch: 009 |Total Train Loss: 20.69 |Avg. Test Loss: 6.77e-06 | Test Error: 0.019\n",
      "Epoch: 009 |Total Train Loss: 14.52 |Avg. Test Loss: 7.08e-06 | Test Error: 0.0202\n",
      "Epoch: 009 |Total Train Loss: 9.724 |Avg. Test Loss: 7.904e-06 | Test Error: 0.0214\n",
      "Epoch: 009 |Total Train Loss: 10.93 |Avg. Test Loss: 8.117e-06 | Test Error: 0.0217\n"
     ]
    }
   ],
   "source": [
    "#Task 7\n",
    "train_loss = []\n",
    "test_loss = []\n",
    "for i in range(2, 11):\n",
    "    _, tloss, teloss = train(train_set_mnist, test_set_mnist, dim=28*28, width = 2**i, depth=1, num_epochs=10, learning_rate=5e-4, print_info=False)\n",
    "    train_loss.append(tloss[-1])\n",
    "    test_loss.append(teloss[-1])"
   ]
  },
  {
   "cell_type": "code",
   "execution_count": 38,
   "metadata": {},
   "outputs": [
    {
     "name": "stdout",
     "output_type": "stream",
     "text": [
      "\n",
      "| Depth         | Training Loss | Test Loss |\n",
      "|---------------|---------------|-----------|\n",
      "| 4             | 496.4        | 5.145e-05    |\n",
      "| 8             | 253.9        | 2.726e-05    |\n",
      "| 16            | 160.3        | 1.893e-05    |\n",
      "| 32            | 82.08        | 1.133e-05    |\n",
      "| 64            | 40.84        | 8.625e-06    |\n",
      "| 128           | 20.69        | 6.77e-06    |\n",
      "| 256           | 14.52        | 7.08e-06    |\n",
      "| 512           | 9.724        | 7.904e-06    |\n",
      "| 1024          | 10.93        | 8.117e-06    |\n",
      "\n"
     ]
    },
    {
     "data": {
      "image/png": "[encoded data removed]",
      "text/plain": [
       "<Figure size 432x288 with 1 Axes>"
      ]
     },
     "metadata": {
      "needs_background": "light"
     },
     "output_type": "display_data"
    },
    {
     "data": {
      "image/png": "[encoded data removed]",
      "text/plain": [
       "<Figure size 432x288 with 1 Axes>"
      ]
     },
     "metadata": {
      "needs_background": "light"
     },
     "output_type": "display_data"
    }
   ],
   "source": [
    "table_2 = f\"\"\"\n",
    "| Depth         | Training Loss | Test Loss |\n",
    "|---------------|---------------|-----------|\n",
    "| 4             | {train_loss[0]:.04}        | {test_loss[0]:.04}    |\n",
    "| 8             | {train_loss[1]:.04}        | {test_loss[1]:.04}    |\n",
    "| 16            | {train_loss[2]:.04}        | {test_loss[2]:.04}    |\n",
    "| 32            | {train_loss[3]:.04}        | {test_loss[3]:.04}    |\n",
    "| 64            | {train_loss[4]:.04}        | {test_loss[4]:.04}    |\n",
    "| 128           | {train_loss[5]:.04}        | {test_loss[5]:.04}    |\n",
    "| 256           | {train_loss[6]:.04}        | {test_loss[6]:.04}    |\n",
    "| 512           | {train_loss[7]:.04}        | {test_loss[7]:.04}    |\n",
    "| 1024          | {train_loss[8]:.04}        | {test_loss[8]:.04}    |\n",
    "\"\"\"\n",
    "print(table_2)\n",
    "scaled_train_loss = np.array([i for i in train_loss])/len(train_set_mnist)\n",
    "width = [i for i in range(2, 11)]\n",
    "plt.plot([i for i in range(2, 11)], scaled_train_loss, label=\"train_loss\")\n",
    "plt.xlabel(\"Log width of NN\")\n",
    "plt.legend()\n",
    "plt.ylabel(\"Training loss\")\n",
    "plt.title(\"Effect of width on training loss\")\n",
    "\n",
    "plt.show()\n",
    "plt.plot([i for i in range(2, 11)], np.array(test_loss), label=\"test_loss\")\n",
    "plt.xlabel(\"Log width of NN\")\n",
    "plt.legend()\n",
    "plt.ylabel(\"Average test loss\")\n",
    "plt.title(\"Effect of width on test loss\")\n",
    "plt.show()\n"
   ]
  },
  {
   "cell_type": "markdown",
   "metadata": {},
   "source": [
    "We are interested in the reduction of loss in the test error. This error decreases quickly up to width $2^7$ and then begins to flatten out. The train error continues to decrease beyond this point which suggests that the model is overfitting to the training data. The plot suggests to use a width of approx $2^7$\n",
    "\n",
    "depth=1, number of epochs = 16, learning rate = 5e-4, batch size = 64"
   ]
  },
  {
   "cell_type": "markdown",
   "metadata": {},
   "source": [
    "***\n",
    "***\n",
    "\n",
    "## Part 4: The link between Neural Networks and Gaussian Processes [8 points]"
   ]
  },
  {
   "cell_type": "markdown",
   "metadata": {},
   "source": [
    "### Part 4.1: Proving the relationship between a Gaussian process and a neural network [4 points]"
   ]
  },
  {
   "cell_type": "markdown",
   "metadata": {},
   "source": [
    "### Task 1: Proper weight scaling"
   ]
  },
  {
   "cell_type": "markdown",
   "metadata": {},
   "source": [
    "The variances $\\sigma^{(l)}$ are scaled as $\\frac{\\sigma^{(l)}_w}{N_{l-1}} $ this scaling comes from the central limit theorem, which states that the sum of iid random variables will tend to a normal distribution with variance $N\\sigma$. In the context of a neural network, as the width of a layer grows, the sum of the weighted inputs to the next layer will have a variance that grows linearly. Hence we scale by the width. "
   ]
  },
  {
   "cell_type": "markdown",
   "metadata": {},
   "source": [
    "### Task 2: Derive the GP relation for a single hidden layer"
   ]
  },
  {
   "cell_type": "markdown",
   "metadata": {},
   "source": [
    "From the question we have that\n",
    "$$ f_i^{(2)} = \\mathbf{w}_i^{(2)}. \\mathbf{g}^{(1)} + b_i^{(2)}$$\n",
    "Notice that $f_i^{(2)}$ is the weighted sum of Gaussian RV's. As each variable is centred at $0$, each $f_i^{(2)}$ is also centred at $0$. Since the $f_i^{(2)}$ are jointly Gaussian for any set of $\\mathbf{g}^{(1)}$, then they can be described using a Gaussian process. \n",
    "\n",
    "$$f_i^{(2)}\\sim GP(0, K^1)$$\n",
    "\n",
    "$$ K^{1}_{i,j}(x,x') = \\sigma^{(2)}_w\\mathbb{E}[\\phi(f_i^{(1)}(x))\\phi(f_{j}^{(1)}(x'))] + \\sigma^{(2)}_b$$\n",
    "\n",
    "Using the zero mean property we calculate the covariance matrix below as:\n",
    "\n",
    "$$\\mathbb{E}[f_i^{(2)}(x)f_{j}^{(2)}(x')] - \\mathbb{E}[f_i^{(2)}(x)]E[f_{j}^{(2)}(x')] = \\mathbb{E}[f_i^{(2)}(x)f_{j}^{(2)}(x')]$$\n",
    "\n",
    "As the weights and bias terms are iid we can separate them.\n",
    "Using the equation for $f_i^{(2)}$, we have\n",
    "\n",
    "$$ \\mathbb{E}(f_i^{(2)}(x)f_{j}^{(2)}(x'))= \\mathbb{E}\\left(\\left(\\sum_{k=1}^{N_1}w_{ik}^{(2)}g_k^{(1)}(x)\\right)\\left(\\sum_{k=1}^{N_1}w_{jk}^{(2)}g_k^{(1)}(x')\\right)\\right) + \\mathbb{E}(b_i^{(2)})\\mathbb{E}\\left(\\sum_{k=1}^{N_1}w_{ik}^{(2)}g_k^{(1)}(x)\\right)+ \\mathbb{E}(b_i^{(2)})\\mathbb{E}\\left(\\sum_{k=1}^{N_1}w_{jk}^{(2)}g_k^{(1)}(x')\\right) + \\mathbb{E}((b_i^{(2)})^2)$$\n",
    "\n",
    "Notice that terms that contain $w_{ik}^{(2)}w_{ik'}^{(2)}$ for $k \\neq k'$ go to $0$ because each $w_{ik}^{(2)}$ are zero mean RV's. Since $\\mathbb{E}(b_i^{(2)})=0$ we can simplify the expression to: \n",
    "\n",
    "$$  \\mathbb{E}(f_i^{(2)}(x)f_{j}^{(2)}(x'))= \\mathbb{E}\\left(\\sum_{k=1}^{N_1}w_{ik}^{(2)}w_{jk}^{(2)}g_k^{(1)}(x)g_k^{(1)}(x') \\right) + \\sigma^{(2)}_b$$\n",
    "\n",
    "When $i=j$, the expectation is non-zero from the iid property. Hence $K^1$ is a diagonal matrix with entries\n",
    "\n",
    "$$  \\mathbb{E}(f_i^{(2)}(x)f_{i}^{(2)}(x'))= \\mathbb{E}\\left(\\sum_{k=1}^{N_1}(w_{ik}^{(2)})^2g_k^{(1)}(x)g_k^{(1)}(x') \\right) + \\sigma^{(2)}_b$$\n",
    "$$ \\mathbb{E}(f_i^{(2)}(x)f_{i}^{(2)}(x'))= \\sum_{k=1}^{N_1}\\mathbb{E}\\left((w_{ik}^{(2)})^2(g_k^{(1)}(x)g_k^{(1)}(x'))\\right) + \\sigma^{(2)}_b$$\n",
    "\n",
    "$$   \\mathbb{E}(f_i^{(2)}(x)f_{i}^{(2)}(x'))= \\sum_{k=1}^{N_1}\\frac{\\sigma_w^{(2)}}{N_1}\\mathbb{E}(g_k^{(1)}(x)g_k^{(1)}(x'))  + \\sigma^{(2)}_b$$\n",
    "$$  \\mathbb{E}(f_i^{(2)}(x)f_{i}^{(2)}(x'))= \\sigma_w^{(2)}\\mathbb{E}(g_i^{(1)}(x)g_i^{(1)}(x'))  + \\sigma^{(2)}_b$$\n",
    "\n",
    "\n"
   ]
  },
  {
   "cell_type": "markdown",
   "metadata": {},
   "source": [
    "### Task 3: Why in succession"
   ]
  },
  {
   "cell_type": "markdown",
   "metadata": {},
   "source": [
    "We apply the limits in succession as this ensures that each previous layer is a GP. We use an inductive argument to prove that each consecutive layer can be described as a GP by using the previous layer. This is why we use a successive argument. "
   ]
  },
  {
   "cell_type": "markdown",
   "metadata": {},
   "source": [
    "### Task 4: Derive the GP relation for multiple hidden layers"
   ]
  },
  {
   "cell_type": "markdown",
   "metadata": {},
   "source": [
    "We use an induction argument to prove the result.\n",
    "\n",
    "$\\\\$\n",
    "\n",
    "We know that for the case where the neural network has only one layer it can be represented by a GP. Secondly assume that for some l-1,  $f_i^{(l-1)}$ is a Gaussian process and the $g_j^{(l-1)}$ are i.i.d.\n",
    "$$f_i^{(l)}(x) = \\sum_{j=1}^{N_l}w^{(l)}_{ij}\\phi(f_j^{(l-1)}(x)) \\ + \\ b^{(l)}_i $$\n",
    "By the CLT, $w^{(l)}_{ij}$ are i.i.d terms so they must converge to a Gaussian distribution as the width $N_l → ∞ $. The $\\phi(f_j^{(l-1)})$ terms are a non-linear function of the weights are i.i.d. As there is independence between all the terms in $f_i^{(l)}$ and using the fact that $N_l \\rightarrow \\infty$, we can apply the CLT. \n",
    "\n",
    "$\\\\$\n",
    "\n",
    "The Gaussian process clearly has mean 0. As before, $f_i^l(x)$ is a sum of i.i.d. terms so as $N_l \\rightarrow \\infty$, any finite collection of $f_i^{(l)}$ will have joint multivariate Gaussian distribution and $f_i^{(l)} \\sim GP \\left(0, K^l\\right)$.\n",
    "We know from previous parts that the covariance is given by \n",
    "$$ K^l_{i,j}\\left(x, x^{\\prime}\\right) \\equiv \\mathbb{E}\\left[f_i^{(l)}(x) f_{j}^{(l)}\\left(x^{\\prime}\\right)\\right]=\\sigma_b^2+\\sigma_w^2 \\mathbb{E}\\left[\\phi\\left(f_i^{(l-1)}(x)\\right) \\phi\\left(f_{j}^{(l-1)}\\left(x^{\\prime}\\right)\\right)\\right]$$\n",
    "\n",
    "By the induction hypothesis, we know that $g_i^{(l-1)}$ is a Gaussian process with covariance matrix defined by $K^{l-1}(x, x), K^{l-1}\\left(x, x^{\\prime}\\right), K^{l-1}\\left(x^{\\prime}, x^{\\prime}\\right)$. Therefore, the recurrence relation is given by:\n",
    "\n",
    "$$\n",
    "K^{l}\\left(x, x^{\\prime}\\right)=\\sigma_w^{(2)} F\\left[K^{l-1}\\left(x, x^{\\prime}\\right), K^{l-1}(x, x), K^{l-1}\\left(x^{\\prime}, x^{\\prime}\\right)\\right]+\\sigma_b^{(2)}\n",
    "$$\n",
    "\n",
    "where $F$ depends on the activation function $\\phi$.\n",
    "\n"
   ]
  },
  {
   "cell_type": "markdown",
   "metadata": {},
   "source": [
    "***\n",
    "\n",
    "### Part 4.2: Analysing the performance of the Gaussian process and a neural network [4 points]"
   ]
  },
  {
   "cell_type": "code",
   "execution_count": 48,
   "metadata": {},
   "outputs": [],
   "source": [
    "# Choose two classes to extract\n",
    "torch.set_default_dtype(torch.float64)\n",
    "#Chosen Classes\n",
    "class1 = 6\n",
    "class2 = 9\n",
    "\n",
    "# Define the number of samples to extract from each class\n",
    "samples_per_class = 500\n",
    "\n",
    "#train lists\n",
    "cifar_train = []\n",
    "cifar_train_y = []\n",
    "#Counters \n",
    "num_0 = 0\n",
    "num_5 = 0\n",
    "#Store, seperate and relabel data \n",
    "for data, val in train_set_cifar:\n",
    "    if val==class1 and num_0 < 500:\n",
    "        cifar_train.append(data)\n",
    "        cifar_train_y.append(-0.5)\n",
    "        num_0 += 1\n",
    "    if val==class2 and num_5 <500:\n",
    "        cifar_train.append(data)\n",
    "        num_5 += 1\n",
    "        cifar_train_y.append(0.5)\n",
    "#Repeat for test data \n",
    "cifar_test = []\n",
    "cifar_test_y = []\n",
    "num_0 = 0\n",
    "num_5 = 0\n",
    "for data, val in test_set_cifar:\n",
    "    if val==class1 and num_0 < 500:\n",
    "        cifar_test.append(data)\n",
    "        cifar_test_y.append(-0.5)\n",
    "        num_0 += 1\n",
    "    if val==class2 and num_5 <500:\n",
    "        cifar_test.append(data)\n",
    "        num_5 += 1\n",
    "        cifar_test_y.append(0.5)\n",
    "\n",
    "#Convert to tensors and flatten\n",
    "y_train = torch.tensor(cifar_train_y)\n",
    "x_train = torch.stack(cifar_train).view(1000,-1)\n",
    "y_test = torch.tensor(cifar_test_y)\n",
    "x_test = torch.stack(cifar_test).view(1000,-1)\n"
   ]
  },
  {
   "cell_type": "markdown",
   "metadata": {},
   "source": [
    "We can perform regression on the data and define predicted values below 0 to being the -0.5 label and values above 0 to represent the 0.5 value label. For completeness we can also define the assignment to the predicted value 0 as being a draw from a RV with probability 1/2 of being -0.5 and 1/2 of being classified as +0.5."
   ]
  },
  {
   "cell_type": "code",
   "execution_count": 49,
   "metadata": {},
   "outputs": [],
   "source": [
    "# Please use float64 as default dtype for this part of the assignment\n",
    "\n",
    "\n",
    "#GP Kernel \n",
    "def K0(var_w, var_b, X1, X2):\n",
    "    \"\"\"Defines K_0 \n",
    "    \n",
    "    Inputs:\n",
    "    var_w - variance of weights \n",
    "    var_b = variance of biases \n",
    "    X1, X2 - input data\n",
    "    \n",
    "    Outputs - K_0 for given parameters\"\"\"\n",
    "    N0 = X1.size(dim=1)\n",
    "    return var_b + var_w * torch.matmul(X1, X2.T)/N0\n",
    "\n",
    "def theta_func(K1, K2, K3):\n",
    "    \"\"\"\n",
    "    Returns theta value for the given kernels \n",
    "    Inputs: \n",
    "    K1 = K(x, x')\n",
    "    K2 = K(x, x)\n",
    "    K3 = K(x', x')\n",
    "    x and x' are equivalently defined as X1 and X2 in the kernel functions \n",
    "\n",
    "    Ouptut - theta\"\"\"\n",
    "\n",
    "    return torch.acos(torch.clamp(K1/torch.sqrt(torch.outer(torch.diag(K2), torch.diag(K3))),min=-1, max=1))\n",
    "\n",
    "def Kl(var_b, var_w, K12, K11, K22):\n",
    "    \"\"\"\n",
    "    Returns the l'th kernel given l-1'th kernels\n",
    "    Inputs -\n",
    "    var_w - variance of weights \n",
    "    var_b = variance of biases \n",
    "    K12 = K(x, x'BaseException)\n",
    "    K11 = K(x, x)\n",
    "    K22 = K(x', x')\n",
    "\n",
    "    Output - L'th/subsequent kernel \n",
    "    \"\"\"\n",
    "    theta = theta_func(K12, K11, K22)\n",
    "    K12 = var_b + var_w*(torch.sqrt(torch.outer(torch.diag(K11), torch.diag(K22)))) * (torch.sin(theta) + ((torch.pi - theta) * torch.cos(theta)))/(2*torch.pi)\n",
    "    return K12\n",
    "\n",
    "def Kernel(L, var_w, var_b, X1, X2):\n",
    "    \"\"\"\n",
    "    Returns the L'th kernel for the initial parameter values \n",
    "    Inputs:\n",
    "    L - number of kernel steps\n",
    "    var_w - variance of weights \n",
    "    var_b = variance of biases \n",
    "    X1, X2 - input data where X2 should define the unknown data\n",
    "    \"\"\"\n",
    "    K12 = K0(var_w, var_b, X1, X2)\n",
    "    K11 = K0(var_w, var_b, X1, X1)\n",
    "    K22 = K0(var_w, var_b, X2, X2)\n",
    "    for l in range(L-1):\n",
    "        K12 = Kl(var_b, var_w, K12, K11, K22)\n",
    "        K11 = var_b + var_w * (torch.sqrt(torch.outer(torch.diag(K11), torch.diag(K11))))/2\n",
    "        K22 = var_b + var_w * (torch.sqrt(torch.outer(torch.diag(K22), torch.diag(K22))))/2\n",
    "    return K12\n",
    "\n",
    "L = 2\n",
    "var_w = 1\n",
    "var_b= 0.05\n",
    "var_y = 0.1\n",
    "\n",
    "\n",
    "def predict(L, var_w, var_b, x_test, x_train):\n",
    "    \"\"\"\n",
    "    Returns the predicted f* values for a gaussian process with defined parameter values\n",
    "    Inputs:\n",
    "    L - number of kernel steps\n",
    "    var_w - variance of weights \n",
    "    var_b = variance of biases \n",
    "    x_train, x_test - training and test data\n",
    "    \n",
    "    Outputs:\n",
    "    predictions - Predicted f* values \n",
    "    pred_mean - predicted mean vector \n",
    "    pred_var - covariance matrrix for test set\n",
    "    \"\"\"\n",
    "    \n",
    "    pred_mean = torch.matmul(Kernel(L, var_w, var_b, x_test, x_train), \n",
    "                         torch.linalg.solve(Kernel(L, var_w, var_b, x_train, x_train) + var_y*torch.eye(1000), y_train))\n",
    "    pred_var = Kernel(L, var_w, var_b, x_test, x_test) - torch.matmul(Kernel(L, var_w, var_b, x_test, x_train), \n",
    "                                                                  torch.matmul(torch.linalg.inv(Kernel(L, var_w, var_b, x_train, x_train) + var_y*torch.eye(1000)), \n",
    "                                                                               Kernel(L, var_w, var_b, x_train, x_test)))\n",
    "    #Use normal distribution to compute prediction samples using the calculated mean and variance \n",
    "    predictions = np.random.multivariate_normal(pred_mean, pred_var)\n",
    "    return predictions, pred_mean, pred_var\n",
    "\n",
    "\n",
    "def accuracy(pred, y_test):\n",
    "    \"\"\"\n",
    "    Returns the accuracy of a prediction matrix\n",
    "    Inputs:\n",
    "    pred - prediction vector\n",
    "    y_test - true test set values\n",
    "\n",
    "    Output - Accuracy of predicton\n",
    "    \"\"\"\n",
    "    #Convert regression estimate into a classification \n",
    "    #Chosen to set 0 to -0.5 for completeness however this should have little to no effect since the probability of predicting exactly 0 is low \n",
    "    pred[pred<=0] = -0.5\n",
    "    pred[pred>0]=0.5\n",
    "    return (len(y_test) - torch.sum(torch.abs(y_test - pred)))/len(y_test)\n",
    "\n",
    "# Another hint: when  computing [ K^L(X,X) + noise^2 Id ]^-1 y and  [ K^L(X,X) + noise^2 Id ]^-1 K^L(X,X*)\n",
    "# You can TRY cholesky solve as it should be p.d. (except case for numerical errors) - maybe you can use try:/except:\n",
    "# You can also try to enforce symmetry in posterior covariance by doing (K + K.t())/2"
   ]
  },
  {
   "cell_type": "code",
   "execution_count": 50,
   "metadata": {},
   "outputs": [],
   "source": [
    "#Grid search \n",
    "optimal_list = []\n",
    "accuracy_list = []\n",
    "#Loop through values of L\n",
    "for L in range(1, 11):\n",
    "    #Store max accuracy for each iteration \n",
    "    accuracy_max=0\n",
    "    #Loop through variance values\n",
    "    for var_w in [0.0001, 0.001, 0.005, 0.01, 0.05, 0.1, 0.5, 1]:\n",
    "        for var_b in [0.0001, 0.001, 0.005, 0.01, 0.05, 0.1, 0.5, 1]:\n",
    "            #Calculate prediction accuracy\n",
    "            pred, pred_m, pred_v = predict(L, var_w, var_b, x_test, x_train)\n",
    "            #Compare accuracy\n",
    "            if accuracy_max < accuracy(pred, y_test):\n",
    "                accuracy_max = accuracy(pred, y_test)\n",
    "                #save optimal params for given L\n",
    "                optimal_params = (L, var_w, var_b)\n",
    "    accuracy_list.append(accuracy_max)\n",
    "    optimal_list.append(optimal_params)\n"
   ]
  },
  {
   "cell_type": "code",
   "execution_count": 51,
   "metadata": {},
   "outputs": [
    {
     "name": "stdout",
     "output_type": "stream",
     "text": [
      "[(1, 0.05, 0.01), (2, 0.5, 0.005), (3, 0.5, 0.01), (4, 1, 0.05), (5, 1, 0.05), (6, 1, 0.005), (7, 1, 1), (8, 1, 1), (9, 1, 1), (10, 1, 1)]\n",
      "[tensor(0.8560), tensor(0.8650), tensor(0.8770), tensor(0.8670), tensor(0.8750), tensor(0.8750), tensor(0.8570), tensor(0.8340), tensor(0.8250), tensor(0.8180)]\n"
     ]
    },
    {
     "data": {
      "image/png": "[encoded data removed]",
      "text/plain": [
       "<Figure size 432x288 with 1 Axes>"
      ]
     },
     "metadata": {
      "needs_background": "light"
     },
     "output_type": "display_data"
    }
   ],
   "source": [
    "print(optimal_list)\n",
    "print(accuracy_list)\n",
    "plt.plot([i for i in range(1, 11)], accuracy_list)\n",
    "plt.xlabel(\"L - Number of layers\")\n",
    "plt.ylabel(\"Maximum accuracy\")\n",
    "plt.title(\"Effects of layers on maximum accuracy\")\n",
    "plt.xticks([i for i in range(1, 11)])\n",
    "\n",
    "# Find the index of the maximum accuracy\n",
    "max_index = accuracy_list.index(max(accuracy_list))\n",
    "# Get the optimal parameters corresponding to the maximum accuracy\n",
    "optimal_params = optimal_list[max_index]\n",
    "\n",
    "predic, mean, cov = predict(*(optimal_params), x_test, x_train)\n"
   ]
  },
  {
   "cell_type": "markdown",
   "metadata": {},
   "source": [
    "We see that as L is optimal for values 3. "
   ]
  },
  {
   "cell_type": "code",
   "execution_count": 52,
   "metadata": {},
   "outputs": [
    {
     "name": "stderr",
     "output_type": "stream",
     "text": [
      "Clipping input data to the valid range for imshow with RGB data ([0..1] for floats or [0..255] for integers).\n",
      "Clipping input data to the valid range for imshow with RGB data ([0..1] for floats or [0..255] for integers).\n",
      "Clipping input data to the valid range for imshow with RGB data ([0..1] for floats or [0..255] for integers).\n",
      "Clipping input data to the valid range for imshow with RGB data ([0..1] for floats or [0..255] for integers).\n"
     ]
    },
    {
     "name": "stdout",
     "output_type": "stream",
     "text": [
      "Prediction mean for maximum covariance indices: 0.10511541088316437\n",
      "Prediction mean for maximum covariance indices: 0.2805693568825707\n",
      "Prediction mean for minimum covariance indices: -0.4141050108439682\n",
      "Prediction mean for minimum covariance indices: -0.5322639118082959\n"
     ]
    },
    {
     "data": {
      "image/png": "[encoded data removed]",
      "text/plain": [
       "<Figure size 1080x1080 with 4 Axes>"
      ]
     },
     "metadata": {
      "needs_background": "light"
     },
     "output_type": "display_data"
    }
   ],
   "source": [
    "import matplotlib.pyplot as plt\n",
    "import torch\n",
    "\n",
    "\n",
    "# Analysing uncertainty \n",
    "# Sort diagonal values for covariance matrix \n",
    "sort_indices = torch.argsort(cov.diag(), descending=True)\n",
    "# Store max and min indices\n",
    "max_indices = sort_indices[:2]\n",
    "min_indices = sort_indices[-2:]\n",
    "# Store image data for given indices\n",
    "images = [x_test[max_indices[0]], x_test[max_indices[1]], x_test[min_indices[0]], x_test[min_indices[1]]]\n",
    "\n",
    "fig, axs = plt.subplots(1, 4, figsize=(15, 15))\n",
    "\n",
    "# Loop through and plot images \n",
    "for i, tensor in enumerate(images):\n",
    "    # Reshape the tensor to 3x32x32\n",
    "    img_tensor = tensor.reshape(3, 32, 32)\n",
    "    # Permute order of axes to meet matplotlib standard as PyTorch tensors in the format CxHxW (channels, height, width)\n",
    "    img_tensor = img_tensor.permute(1, 2, 0)\n",
    "    # Plot the tensor\n",
    "    axs[i].imshow(img_tensor)\n",
    "    axs[i].axis('off')\n",
    "    \n",
    "    # Add description indicating covariance\n",
    "    if i < 2:\n",
    "        axs[i].set_title(f'Max Covariance: {cov[max_indices[i], max_indices[i]]:.4f}')\n",
    "        #axs[i].text(0.5, 1.05, f'Prediction mean: {mean[max_indices[i]]}', ha='center', transform=axs[i].transAxes)\n",
    "        print(f'Prediction mean for maximum covariance indices: {mean[max_indices[i]]}')\n",
    "    else:\n",
    "        axs[i].set_title(f'Min Covariance: {cov[min_indices[i-2], min_indices[i-2]]:.4f}')\n",
    "        #axs[i].text(0.5, 1.05, f'Prediction mean: {mean[min_indices[i]]}', ha='center', transform=axs[i].transAxes)\n",
    "        print(f'Prediction mean for minimum covariance indices: {mean[min_indices[i-2]]}')\n",
    "\n",
    "\n",
    "plt.show()\n"
   ]
  },
  {
   "cell_type": "markdown",
   "metadata": {},
   "source": [
    "The importance of covariance of each image is that it tells us how certain the algorithm is for each image. The two images of frogs with very low variance indicates that they will almost always be predicted as frogs as both mean valus are negative. As for the two images with largest covariance (in this case two trucks) notice that the mean values are much closer to 0 and so these images will generally be predicted as trucks but due to the large variance they may also often be predicted as frogs as the algorithm is less certain."
   ]
  },
  {
   "cell_type": "code",
   "execution_count": 53,
   "metadata": {},
   "outputs": [
    {
     "name": "stderr",
     "output_type": "stream",
     "text": [
      "Clipping input data to the valid range for imshow with RGB data ([0..1] for floats or [0..255] for integers).\n",
      "Clipping input data to the valid range for imshow with RGB data ([0..1] for floats or [0..255] for integers).\n",
      "Clipping input data to the valid range for imshow with RGB data ([0..1] for floats or [0..255] for integers).\n",
      "Clipping input data to the valid range for imshow with RGB data ([0..1] for floats or [0..255] for integers).\n"
     ]
    },
    {
     "name": "stdout",
     "output_type": "stream",
     "text": [
      "Prediction mean for maximum covariance indices: 0.18664142805140552\n",
      "Prediction mean for maximum covariance indices: 0.18664142805140552\n",
      "Prediction mean for minimum covariance indices: 0.10511541088316437\n",
      "Prediction mean for minimum covariance indices: 0.10511541088316437\n"
     ]
    },
    {
     "data": {
      "image/png": "[encoded data removed]",
      "text/plain": [
       "<Figure size 1080x1080 with 4 Axes>"
      ]
     },
     "metadata": {
      "needs_background": "light"
     },
     "output_type": "display_data"
    }
   ],
   "source": [
    "# Correlated images \n",
    "sort_indices = torch.argsort(cov[~torch.eye(cov.size(0), dtype=bool)], descending=True)\n",
    "\n",
    "# Get the indices of the maximum and minimum covariance values\n",
    "max_index = sort_indices[0]\n",
    "min_index = sort_indices[-1]\n",
    "\n",
    "# Get the row and column indices from the flattened indices\n",
    "max_row, max_col = torch.nonzero(~torch.eye(cov.size(0), dtype=bool))[max_index]\n",
    "min_row, min_col = torch.nonzero(~torch.eye(cov.size(0), dtype=bool))[min_index]\n",
    "\n",
    "# Get the images corresponding to the maximum and minimum indices\n",
    "max_images = [x_test[max_row], x_test[max_col]]\n",
    "min_images = [x_test[min_row], x_test[min_col]]\n",
    "\n",
    "fig, axs = plt.subplots(1, 4, figsize=(15, 15))\n",
    "\n",
    "# Loop through and plot images \n",
    "for i, tensor in enumerate(max_images + min_images):\n",
    "    # Reshape the tensor to 3x32x32\n",
    "    img_tensor = tensor.reshape(3, 32, 32)\n",
    "    # Permute order of axes to meet matplotlib standard as PyTorch tensors in the format CxHxW (channels, height, width)\n",
    "    img_tensor = img_tensor.permute(1, 2, 0)\n",
    "    # Plot the tensor\n",
    "    axs[i].imshow(img_tensor)\n",
    "    axs[i].axis('off')\n",
    "    \n",
    "    # Add description indicating covariance\n",
    "    if i < 2:\n",
    "        axs[i].set_title(f'Max Covariance: {cov[max_row, max_col]:.4f}')\n",
    "        # axs[i].text(0.5, 1.05, f'Prediction mean: {mean[max_row]}', ha='center', transform=axs[i].transAxes)\n",
    "        print(f'Prediction mean for maximum covariance indices: {mean[max_row]}')\n",
    "    else:\n",
    "        axs[i].set_title(f'Min Covariance: {cov[min_row, min_col]:.4f}')\n",
    "        # axs[i].text(0.5, 1.05, f'Prediction mean: {mean[min_row]}', ha='center', transform=axs[i].transAxes)\n",
    "        print(f'Prediction mean for minimum covariance indices: {mean[min_row]}')\n",
    "\n",
    "plt.show()\n"
   ]
  },
  {
   "cell_type": "markdown",
   "metadata": {},
   "source": [
    "What the coupled minimum and maximum covariance indices indicate is the two images which the algorithm think are the most similar and the two which are the least similar and hence we expect to see a truck and a frog together for the maximum covariance and two of the same image for the minimum covariance. "
   ]
  },
  {
   "cell_type": "markdown",
   "metadata": {},
   "source": [
    "The matrix inversion to determine the mean $K^L(X^*, X)[K^L(X, X) + \\sigma^2 I]^{-1}y$\n",
    "and covariance $K^L(X^*, X^*) - K^L(X^*, X)[K^L(X, X) + \\sigma^2 I]^{-1}K^L(X, X^*)$ is the most expensive part of the algorithm. Matrix inversion is of algorithmic complexity O($n^3$), matrix-matrix multiplications is of algorithmic complexity O(MNP) for a matrix multiplication between an MxN and NxP matrix and finally the algorithimic complexity for matrix-vector multiplication between an MxN matrix and Nx1 length vector is O(MN) therefore the total complexity of this part of the algorithm is $max(M_1^3, M_2M_1^2)$ where $M_1$ is the number of training samples that we have and $M_2$ is the number of test samples, almost always we will have more training than test samples so we can say the algorithmic complexity is of order O($M_1^3$) meaning that as the size of our dataset increases the cost of the algorthmic scales cubically. This of course means it becomes more and more infeasible to train large datasets for a Gaussian process. This is a key flaw regarding gaussian processes particularly because we need a large amount of data to derive small error bounds. \n"
   ]
  }
 ],
 "metadata": {
  "kernelspec": {
   "display_name": "Python 3",
   "language": "python",
   "name": "python3"
  },
  "language_info": {
   "codemirror_mode": {
    "name": "ipython",
    "version": 3
   },
   "file_extension": ".py",
   "mimetype": "text/x-python",
   "name": "python",
   "nbconvert_exporter": "python",
   "pygments_lexer": "ipython3",
   "version": "3.9.10"
  }
 },
 "nbformat": 4,
 "nbformat_minor": 2
}
